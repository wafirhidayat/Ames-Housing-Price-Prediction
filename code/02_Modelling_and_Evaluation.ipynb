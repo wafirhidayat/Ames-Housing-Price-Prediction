{
 "cells": [
  {
   "cell_type": "markdown",
   "id": "010ad738-7892-4000-b394-7fb2a37f18be",
   "metadata": {},
   "source": [
    "# Prediction Model\n",
    "\n",
    "We will be creating multiple regression models that will try and predict housing prices based on the features in our cleaned datasets. The models will be evaluated based on the root mean squared error (RMSE) of their predictions against the validation set. Once the best production model is found, the final model will then be retrained using the entire training dataset then its test set predictions will be submitted to Kaggle to determine the actual test score."
   ]
  },
  {
   "cell_type": "markdown",
   "id": "395ff78f-a143-4252-b490-38809ae98a3d",
   "metadata": {},
   "source": [
    "## Contents:\n",
    "- [Regression Modelling](#Regression-Modelling)\n",
    "- [Initial Kaggle Submission](#Initial-Kaggle-Submission)\n",
    "- [Model Improvement](#Model-Improvement)\n",
    "- [Final Kaggle Submission](#Final-Kaggle-Submission)\n",
    "- [Conclusions](#Conclusions)\n",
    "\n",
    "------------------------------------------------"
   ]
  },
  {
   "cell_type": "code",
   "execution_count": 1,
   "id": "4393f704-fbed-4b8f-bebb-9df2131e30af",
   "metadata": {},
   "outputs": [],
   "source": [
    "# Imports\n",
    "import pandas as pd\n",
    "import numpy as np\n",
    "import seaborn as sns\n",
    "import matplotlib.pyplot as plt\n",
    "\n",
    "from sklearn.model_selection import train_test_split, cross_val_score\n",
    "from sklearn.linear_model import LinearRegression, Lasso, LassoCV, Ridge, RidgeCV, ElasticNet, ElasticNetCV\n",
    "from sklearn.feature_selection import RFE, RFECV\n",
    "import sklearn.metrics as metrics\n",
    "from sklearn.metrics import mean_squared_error\n",
    "from sklearn.pipeline import Pipeline\n",
    "from sklearn.model_selection import GridSearchCV\n",
    "from sklearn.model_selection import RepeatedKFold"
   ]
  },
  {
   "cell_type": "code",
   "execution_count": 3,
   "id": "63a00aea-8628-4f2e-b399-edcec9831957",
   "metadata": {},
   "outputs": [],
   "source": [
    "train=pd.read_csv('../datasets/training_model.csv')\n",
    "valid=pd.read_csv('../datasets/validation_model.csv')\n",
    "test=pd.read_csv('../datasets/test_kaggle.csv')\n",
    "ori_test=pd.read_csv('../datasets/test.csv')"
   ]
  },
  {
   "cell_type": "code",
   "execution_count": 4,
   "id": "5dc7f31e-5af3-47c1-b729-16bad05168d9",
   "metadata": {},
   "outputs": [],
   "source": [
    "X_train = train.drop(columns='saleprice')\n",
    "X_valid = valid.drop(columns='saleprice')\n",
    "y_train = train['saleprice']\n",
    "y_valid = valid['saleprice']\n",
    "\n",
    "X_test = test"
   ]
  },
  {
   "cell_type": "code",
   "execution_count": 5,
   "id": "154b444a-7c55-4c52-9b33-25efdac694f7",
   "metadata": {},
   "outputs": [
    {
     "name": "stdout",
     "output_type": "stream",
     "text": [
      "Number of columns for X_train is 191\n",
      "Number of columns for X_valid is 191\n",
      "Number of columns for X_train is 191\n"
     ]
    }
   ],
   "source": [
    "#checking the number of rows for each dataset\n",
    "print(f'Number of columns for X_train is {X_train.shape[1]}')\n",
    "print(f'Number of columns for X_valid is {X_valid.shape[1]}')\n",
    "print(f'Number of columns for X_train is {X_test.shape[1]}')"
   ]
  },
  {
   "cell_type": "markdown",
   "id": "98b4fc15-fa05-4ac0-867e-d11c14e58060",
   "metadata": {},
   "source": [
    "------------------------------------------------\n",
    "## Regression Modelling"
   ]
  },
  {
   "cell_type": "markdown",
   "id": "717ffd2b-a42e-47c8-900e-3149fc95cd34",
   "metadata": {},
   "source": [
    "### Linear Regression"
   ]
  },
  {
   "cell_type": "code",
   "execution_count": 6,
   "id": "c19bae1c-e70b-4b6d-a2f7-8c869da69525",
   "metadata": {},
   "outputs": [
    {
     "data": {
      "text/plain": [
       "328349940403081.9"
      ]
     },
     "execution_count": 6,
     "metadata": {},
     "output_type": "execute_result"
    }
   ],
   "source": [
    "# Instantiate\n",
    "lr = LinearRegression()\n",
    "\n",
    "#cross-validation\n",
    "np.abs(cross_val_score(lr, X_train, y_train, scoring='neg_root_mean_squared_error').mean())"
   ]
  },
  {
   "cell_type": "code",
   "execution_count": 7,
   "id": "39e902fa-6392-4fd1-9deb-da9369a479b6",
   "metadata": {},
   "outputs": [
    {
     "name": "stdout",
     "output_type": "stream",
     "text": [
      "[-3.53790996e+20 -3.01238882e+19 -1.56359302e+17]\n"
     ]
    },
    {
     "data": {
      "text/plain": [
       "-1.2802374793495893e+20"
      ]
     },
     "execution_count": 7,
     "metadata": {},
     "output_type": "execute_result"
    }
   ],
   "source": [
    "#check r2 scores\n",
    "lr_scores = cross_val_score(lr, X_train, y_train, cv=3)\n",
    "\n",
    "print(lr_scores)\n",
    "lr_scores.mean() "
   ]
  },
  {
   "cell_type": "code",
   "execution_count": 8,
   "id": "01abb480-a9a5-40df-a2e6-71f828656f95",
   "metadata": {},
   "outputs": [
    {
     "data": {
      "text/plain": [
       "18200765718856.78"
      ]
     },
     "execution_count": 8,
     "metadata": {},
     "output_type": "execute_result"
    }
   ],
   "source": [
    "# Evaluation against validation set\n",
    "lr.fit(X_train, y_train)\n",
    "\n",
    "np.sqrt(metrics.mean_squared_error(y_valid, lr.predict(X_valid)))"
   ]
  },
  {
   "cell_type": "markdown",
   "id": "11ae4ee9-8e5b-4c6c-8a98-b43396873b02",
   "metadata": {},
   "source": [
    "### Ridge Regression"
   ]
  },
  {
   "cell_type": "code",
   "execution_count": 9,
   "id": "38c7487f-f7f8-4e22-bf2c-5a082d79c4da",
   "metadata": {},
   "outputs": [
    {
     "data": {
      "text/html": [
       "<style>#sk-container-id-1 {color: black;background-color: white;}#sk-container-id-1 pre{padding: 0;}#sk-container-id-1 div.sk-toggleable {background-color: white;}#sk-container-id-1 label.sk-toggleable__label {cursor: pointer;display: block;width: 100%;margin-bottom: 0;padding: 0.3em;box-sizing: border-box;text-align: center;}#sk-container-id-1 label.sk-toggleable__label-arrow:before {content: \"▸\";float: left;margin-right: 0.25em;color: #696969;}#sk-container-id-1 label.sk-toggleable__label-arrow:hover:before {color: black;}#sk-container-id-1 div.sk-estimator:hover label.sk-toggleable__label-arrow:before {color: black;}#sk-container-id-1 div.sk-toggleable__content {max-height: 0;max-width: 0;overflow: hidden;text-align: left;background-color: #f0f8ff;}#sk-container-id-1 div.sk-toggleable__content pre {margin: 0.2em;color: black;border-radius: 0.25em;background-color: #f0f8ff;}#sk-container-id-1 input.sk-toggleable__control:checked~div.sk-toggleable__content {max-height: 200px;max-width: 100%;overflow: auto;}#sk-container-id-1 input.sk-toggleable__control:checked~label.sk-toggleable__label-arrow:before {content: \"▾\";}#sk-container-id-1 div.sk-estimator input.sk-toggleable__control:checked~label.sk-toggleable__label {background-color: #d4ebff;}#sk-container-id-1 div.sk-label input.sk-toggleable__control:checked~label.sk-toggleable__label {background-color: #d4ebff;}#sk-container-id-1 input.sk-hidden--visually {border: 0;clip: rect(1px 1px 1px 1px);clip: rect(1px, 1px, 1px, 1px);height: 1px;margin: -1px;overflow: hidden;padding: 0;position: absolute;width: 1px;}#sk-container-id-1 div.sk-estimator {font-family: monospace;background-color: #f0f8ff;border: 1px dotted black;border-radius: 0.25em;box-sizing: border-box;margin-bottom: 0.5em;}#sk-container-id-1 div.sk-estimator:hover {background-color: #d4ebff;}#sk-container-id-1 div.sk-parallel-item::after {content: \"\";width: 100%;border-bottom: 1px solid gray;flex-grow: 1;}#sk-container-id-1 div.sk-label:hover label.sk-toggleable__label {background-color: #d4ebff;}#sk-container-id-1 div.sk-serial::before {content: \"\";position: absolute;border-left: 1px solid gray;box-sizing: border-box;top: 0;bottom: 0;left: 50%;z-index: 0;}#sk-container-id-1 div.sk-serial {display: flex;flex-direction: column;align-items: center;background-color: white;padding-right: 0.2em;padding-left: 0.2em;position: relative;}#sk-container-id-1 div.sk-item {position: relative;z-index: 1;}#sk-container-id-1 div.sk-parallel {display: flex;align-items: stretch;justify-content: center;background-color: white;position: relative;}#sk-container-id-1 div.sk-item::before, #sk-container-id-1 div.sk-parallel-item::before {content: \"\";position: absolute;border-left: 1px solid gray;box-sizing: border-box;top: 0;bottom: 0;left: 50%;z-index: -1;}#sk-container-id-1 div.sk-parallel-item {display: flex;flex-direction: column;z-index: 1;position: relative;background-color: white;}#sk-container-id-1 div.sk-parallel-item:first-child::after {align-self: flex-end;width: 50%;}#sk-container-id-1 div.sk-parallel-item:last-child::after {align-self: flex-start;width: 50%;}#sk-container-id-1 div.sk-parallel-item:only-child::after {width: 0;}#sk-container-id-1 div.sk-dashed-wrapped {border: 1px dashed gray;margin: 0 0.4em 0.5em 0.4em;box-sizing: border-box;padding-bottom: 0.4em;background-color: white;}#sk-container-id-1 div.sk-label label {font-family: monospace;font-weight: bold;display: inline-block;line-height: 1.2em;}#sk-container-id-1 div.sk-label-container {text-align: center;}#sk-container-id-1 div.sk-container {/* jupyter's `normalize.less` sets `[hidden] { display: none; }` but bootstrap.min.css set `[hidden] { display: none !important; }` so we also need the `!important` here to be able to override the default hidden behavior on the sphinx rendered scikit-learn.org. See: https://github.com/scikit-learn/scikit-learn/issues/21755 */display: inline-block !important;position: relative;}#sk-container-id-1 div.sk-text-repr-fallback {display: none;}</style><div id=\"sk-container-id-1\" class=\"sk-top-container\"><div class=\"sk-text-repr-fallback\"><pre>RidgeCV(alphas=array([ 0.1,  0.2,  0.3,  0.4,  0.5,  0.6,  0.7,  0.8,  0.9,  1. ,  1.1,\n",
       "        1.2,  1.3,  1.4,  1.5,  1.6,  1.7,  1.8,  1.9,  2. ,  2.1,  2.2,\n",
       "        2.3,  2.4,  2.5,  2.6,  2.7,  2.8,  2.9,  3. ,  3.1,  3.2,  3.3,\n",
       "        3.4,  3.5,  3.6,  3.7,  3.8,  3.9,  4. ,  4.1,  4.2,  4.3,  4.4,\n",
       "        4.5,  4.6,  4.7,  4.8,  4.9,  5. ,  5.1,  5.2,  5.3,  5.4,  5.5,\n",
       "        5.6,  5.7,  5.8,  5.9,  6. ,  6.1,  6.2,  6.3,  6.4,  6.5,  6.6,\n",
       "        6.7,  6.8,  6.9,  7. ,  7.1,  7.2,  7.3,  7.4,  7.5,  7.6,  7.7,\n",
       "        7.8,  7.9,  8. ,  8.1,  8.2,  8.3,  8.4,  8.5,  8.6,  8.7,  8.8,\n",
       "        8.9,  9. ,  9.1,  9.2,  9.3,  9.4,  9.5,  9.6,  9.7,  9.8,  9.9,\n",
       "       10. ]))</pre><b>In a Jupyter environment, please rerun this cell to show the HTML representation or trust the notebook. <br />On GitHub, the HTML representation is unable to render, please try loading this page with nbviewer.org.</b></div><div class=\"sk-container\" hidden><div class=\"sk-item\"><div class=\"sk-estimator sk-toggleable\"><input class=\"sk-toggleable__control sk-hidden--visually\" id=\"sk-estimator-id-1\" type=\"checkbox\" checked><label for=\"sk-estimator-id-1\" class=\"sk-toggleable__label sk-toggleable__label-arrow\">RidgeCV</label><div class=\"sk-toggleable__content\"><pre>RidgeCV(alphas=array([ 0.1,  0.2,  0.3,  0.4,  0.5,  0.6,  0.7,  0.8,  0.9,  1. ,  1.1,\n",
       "        1.2,  1.3,  1.4,  1.5,  1.6,  1.7,  1.8,  1.9,  2. ,  2.1,  2.2,\n",
       "        2.3,  2.4,  2.5,  2.6,  2.7,  2.8,  2.9,  3. ,  3.1,  3.2,  3.3,\n",
       "        3.4,  3.5,  3.6,  3.7,  3.8,  3.9,  4. ,  4.1,  4.2,  4.3,  4.4,\n",
       "        4.5,  4.6,  4.7,  4.8,  4.9,  5. ,  5.1,  5.2,  5.3,  5.4,  5.5,\n",
       "        5.6,  5.7,  5.8,  5.9,  6. ,  6.1,  6.2,  6.3,  6.4,  6.5,  6.6,\n",
       "        6.7,  6.8,  6.9,  7. ,  7.1,  7.2,  7.3,  7.4,  7.5,  7.6,  7.7,\n",
       "        7.8,  7.9,  8. ,  8.1,  8.2,  8.3,  8.4,  8.5,  8.6,  8.7,  8.8,\n",
       "        8.9,  9. ,  9.1,  9.2,  9.3,  9.4,  9.5,  9.6,  9.7,  9.8,  9.9,\n",
       "       10. ]))</pre></div></div></div></div></div>"
      ],
      "text/plain": [
       "RidgeCV(alphas=array([ 0.1,  0.2,  0.3,  0.4,  0.5,  0.6,  0.7,  0.8,  0.9,  1. ,  1.1,\n",
       "        1.2,  1.3,  1.4,  1.5,  1.6,  1.7,  1.8,  1.9,  2. ,  2.1,  2.2,\n",
       "        2.3,  2.4,  2.5,  2.6,  2.7,  2.8,  2.9,  3. ,  3.1,  3.2,  3.3,\n",
       "        3.4,  3.5,  3.6,  3.7,  3.8,  3.9,  4. ,  4.1,  4.2,  4.3,  4.4,\n",
       "        4.5,  4.6,  4.7,  4.8,  4.9,  5. ,  5.1,  5.2,  5.3,  5.4,  5.5,\n",
       "        5.6,  5.7,  5.8,  5.9,  6. ,  6.1,  6.2,  6.3,  6.4,  6.5,  6.6,\n",
       "        6.7,  6.8,  6.9,  7. ,  7.1,  7.2,  7.3,  7.4,  7.5,  7.6,  7.7,\n",
       "        7.8,  7.9,  8. ,  8.1,  8.2,  8.3,  8.4,  8.5,  8.6,  8.7,  8.8,\n",
       "        8.9,  9. ,  9.1,  9.2,  9.3,  9.4,  9.5,  9.6,  9.7,  9.8,  9.9,\n",
       "       10. ]))"
      ]
     },
     "execution_count": 9,
     "metadata": {},
     "output_type": "execute_result"
    }
   ],
   "source": [
    "# Finding best alpha term\n",
    "r_alphas = np.linspace(.1, 10, 100)\n",
    "ridge_cv = RidgeCV(alphas=r_alphas)\n",
    "ridge_cv.fit(X_train, y_train)"
   ]
  },
  {
   "cell_type": "code",
   "execution_count": 10,
   "id": "b8c43ccb-aa5f-4d5d-bdd0-9dd07666ece6",
   "metadata": {},
   "outputs": [
    {
     "data": {
      "text/plain": [
       "4.5"
      ]
     },
     "execution_count": 10,
     "metadata": {},
     "output_type": "execute_result"
    }
   ],
   "source": [
    "# Best alpha\n",
    "ridge_cv.alpha_"
   ]
  },
  {
   "cell_type": "code",
   "execution_count": 11,
   "id": "3a788435-89ff-4430-99c5-3539cea2af2d",
   "metadata": {},
   "outputs": [
    {
     "data": {
      "text/plain": [
       "24825.246819215317"
      ]
     },
     "execution_count": 11,
     "metadata": {},
     "output_type": "execute_result"
    }
   ],
   "source": [
    "# Instantiate\n",
    "ridge = Ridge(alpha=ridge_cv.alpha_)\n",
    "\n",
    "#cross-validation\n",
    "np.abs(cross_val_score(ridge, X_train, y_train, scoring='neg_root_mean_squared_error').mean())"
   ]
  },
  {
   "cell_type": "code",
   "execution_count": 12,
   "id": "f1b16768-bbd3-4a5a-807c-be87576c9322",
   "metadata": {},
   "outputs": [
    {
     "name": "stdout",
     "output_type": "stream",
     "text": [
      "[0.90716391 0.91174741 0.89679367]\n"
     ]
    },
    {
     "data": {
      "text/plain": [
       "0.9052350010580512"
      ]
     },
     "execution_count": 12,
     "metadata": {},
     "output_type": "execute_result"
    }
   ],
   "source": [
    "#check r2 scores\n",
    "ridge_scores = cross_val_score(ridge, X_train, y_train, cv=3)\n",
    "\n",
    "print(ridge_scores)\n",
    "ridge_scores.mean() "
   ]
  },
  {
   "cell_type": "code",
   "execution_count": 13,
   "id": "6a8d3a47-f798-41d6-8da3-31d7b8e39eba",
   "metadata": {},
   "outputs": [
    {
     "data": {
      "text/plain": [
       "81394.86679720023"
      ]
     },
     "execution_count": 13,
     "metadata": {},
     "output_type": "execute_result"
    }
   ],
   "source": [
    "## Evaluation against validation set\n",
    "ridge.fit(X_train, y_train)\n",
    "\n",
    "np.sqrt(metrics.mean_squared_error(y_valid, ridge.predict(X_valid)))"
   ]
  },
  {
   "cell_type": "markdown",
   "id": "c53090a7-9b6d-4236-8e89-c80f487c4742",
   "metadata": {},
   "source": [
    "### Lasso Regression"
   ]
  },
  {
   "cell_type": "code",
   "execution_count": 14,
   "id": "b5379180-af94-47eb-b658-c64a1b9e1942",
   "metadata": {},
   "outputs": [
    {
     "data": {
      "text/html": [
       "<style>#sk-container-id-2 {color: black;background-color: white;}#sk-container-id-2 pre{padding: 0;}#sk-container-id-2 div.sk-toggleable {background-color: white;}#sk-container-id-2 label.sk-toggleable__label {cursor: pointer;display: block;width: 100%;margin-bottom: 0;padding: 0.3em;box-sizing: border-box;text-align: center;}#sk-container-id-2 label.sk-toggleable__label-arrow:before {content: \"▸\";float: left;margin-right: 0.25em;color: #696969;}#sk-container-id-2 label.sk-toggleable__label-arrow:hover:before {color: black;}#sk-container-id-2 div.sk-estimator:hover label.sk-toggleable__label-arrow:before {color: black;}#sk-container-id-2 div.sk-toggleable__content {max-height: 0;max-width: 0;overflow: hidden;text-align: left;background-color: #f0f8ff;}#sk-container-id-2 div.sk-toggleable__content pre {margin: 0.2em;color: black;border-radius: 0.25em;background-color: #f0f8ff;}#sk-container-id-2 input.sk-toggleable__control:checked~div.sk-toggleable__content {max-height: 200px;max-width: 100%;overflow: auto;}#sk-container-id-2 input.sk-toggleable__control:checked~label.sk-toggleable__label-arrow:before {content: \"▾\";}#sk-container-id-2 div.sk-estimator input.sk-toggleable__control:checked~label.sk-toggleable__label {background-color: #d4ebff;}#sk-container-id-2 div.sk-label input.sk-toggleable__control:checked~label.sk-toggleable__label {background-color: #d4ebff;}#sk-container-id-2 input.sk-hidden--visually {border: 0;clip: rect(1px 1px 1px 1px);clip: rect(1px, 1px, 1px, 1px);height: 1px;margin: -1px;overflow: hidden;padding: 0;position: absolute;width: 1px;}#sk-container-id-2 div.sk-estimator {font-family: monospace;background-color: #f0f8ff;border: 1px dotted black;border-radius: 0.25em;box-sizing: border-box;margin-bottom: 0.5em;}#sk-container-id-2 div.sk-estimator:hover {background-color: #d4ebff;}#sk-container-id-2 div.sk-parallel-item::after {content: \"\";width: 100%;border-bottom: 1px solid gray;flex-grow: 1;}#sk-container-id-2 div.sk-label:hover label.sk-toggleable__label {background-color: #d4ebff;}#sk-container-id-2 div.sk-serial::before {content: \"\";position: absolute;border-left: 1px solid gray;box-sizing: border-box;top: 0;bottom: 0;left: 50%;z-index: 0;}#sk-container-id-2 div.sk-serial {display: flex;flex-direction: column;align-items: center;background-color: white;padding-right: 0.2em;padding-left: 0.2em;position: relative;}#sk-container-id-2 div.sk-item {position: relative;z-index: 1;}#sk-container-id-2 div.sk-parallel {display: flex;align-items: stretch;justify-content: center;background-color: white;position: relative;}#sk-container-id-2 div.sk-item::before, #sk-container-id-2 div.sk-parallel-item::before {content: \"\";position: absolute;border-left: 1px solid gray;box-sizing: border-box;top: 0;bottom: 0;left: 50%;z-index: -1;}#sk-container-id-2 div.sk-parallel-item {display: flex;flex-direction: column;z-index: 1;position: relative;background-color: white;}#sk-container-id-2 div.sk-parallel-item:first-child::after {align-self: flex-end;width: 50%;}#sk-container-id-2 div.sk-parallel-item:last-child::after {align-self: flex-start;width: 50%;}#sk-container-id-2 div.sk-parallel-item:only-child::after {width: 0;}#sk-container-id-2 div.sk-dashed-wrapped {border: 1px dashed gray;margin: 0 0.4em 0.5em 0.4em;box-sizing: border-box;padding-bottom: 0.4em;background-color: white;}#sk-container-id-2 div.sk-label label {font-family: monospace;font-weight: bold;display: inline-block;line-height: 1.2em;}#sk-container-id-2 div.sk-label-container {text-align: center;}#sk-container-id-2 div.sk-container {/* jupyter's `normalize.less` sets `[hidden] { display: none; }` but bootstrap.min.css set `[hidden] { display: none !important; }` so we also need the `!important` here to be able to override the default hidden behavior on the sphinx rendered scikit-learn.org. See: https://github.com/scikit-learn/scikit-learn/issues/21755 */display: inline-block !important;position: relative;}#sk-container-id-2 div.sk-text-repr-fallback {display: none;}</style><div id=\"sk-container-id-2\" class=\"sk-top-container\"><div class=\"sk-text-repr-fallback\"><pre>LassoCV(n_alphas=200)</pre><b>In a Jupyter environment, please rerun this cell to show the HTML representation or trust the notebook. <br />On GitHub, the HTML representation is unable to render, please try loading this page with nbviewer.org.</b></div><div class=\"sk-container\" hidden><div class=\"sk-item\"><div class=\"sk-estimator sk-toggleable\"><input class=\"sk-toggleable__control sk-hidden--visually\" id=\"sk-estimator-id-2\" type=\"checkbox\" checked><label for=\"sk-estimator-id-2\" class=\"sk-toggleable__label sk-toggleable__label-arrow\">LassoCV</label><div class=\"sk-toggleable__content\"><pre>LassoCV(n_alphas=200)</pre></div></div></div></div></div>"
      ],
      "text/plain": [
       "LassoCV(n_alphas=200)"
      ]
     },
     "execution_count": 14,
     "metadata": {},
     "output_type": "execute_result"
    }
   ],
   "source": [
    "# Finding best alpha term\n",
    "lasso_cv = LassoCV(n_alphas=200)\n",
    "\n",
    "#fit model us\n",
    "lasso_cv.fit(X_train, y_train)"
   ]
  },
  {
   "cell_type": "code",
   "execution_count": 15,
   "id": "b5f0a78d-8d17-4e16-bac7-018d1edbc3dc",
   "metadata": {},
   "outputs": [
    {
     "data": {
      "text/plain": [
       "65.46257920593182"
      ]
     },
     "execution_count": 15,
     "metadata": {},
     "output_type": "execute_result"
    }
   ],
   "source": [
    "# Best alpha\n",
    "lasso_cv.alpha_"
   ]
  },
  {
   "cell_type": "code",
   "execution_count": 16,
   "id": "81c91884-16f9-4e15-8d54-a70439aa0862",
   "metadata": {},
   "outputs": [
    {
     "data": {
      "text/plain": [
       "24682.69122736121"
      ]
     },
     "execution_count": 16,
     "metadata": {},
     "output_type": "execute_result"
    }
   ],
   "source": [
    "# Instantiate\n",
    "lasso = Lasso(alpha=lasso_cv.alpha_, max_iter=10000)\n",
    "\n",
    "#cross-validation\n",
    "np.abs(cross_val_score(lasso, X_train, y_train, scoring='neg_root_mean_squared_error').mean())"
   ]
  },
  {
   "cell_type": "code",
   "execution_count": 17,
   "id": "2d10bd64-56d9-450c-bd0f-2bbf2720e6fc",
   "metadata": {},
   "outputs": [
    {
     "name": "stdout",
     "output_type": "stream",
     "text": [
      "[0.9060296  0.91431536 0.90206278]\n"
     ]
    },
    {
     "data": {
      "text/plain": [
       "0.9074692444926035"
      ]
     },
     "execution_count": 17,
     "metadata": {},
     "output_type": "execute_result"
    }
   ],
   "source": [
    "#check r2 scores\n",
    "lasso_scores = cross_val_score(lasso, X_train, y_train, cv=3)\n",
    "\n",
    "print(lasso_scores)\n",
    "lasso_scores.mean() "
   ]
  },
  {
   "cell_type": "code",
   "execution_count": 18,
   "id": "332fcb19-1c6d-4f13-9dbf-f57c718ecb22",
   "metadata": {},
   "outputs": [
    {
     "data": {
      "text/plain": [
       "78757.68236739191"
      ]
     },
     "execution_count": 18,
     "metadata": {},
     "output_type": "execute_result"
    }
   ],
   "source": [
    "## Evaluation against validation set\n",
    "lasso.fit(X_train, y_train)\n",
    "\n",
    "np.sqrt(metrics.mean_squared_error(y_valid, lasso.predict(X_valid)))"
   ]
  },
  {
   "cell_type": "markdown",
   "id": "1663604e-7e11-49f7-b587-06d602d7648c",
   "metadata": {},
   "source": [
    "### Elastic Net"
   ]
  },
  {
   "cell_type": "code",
   "execution_count": 19,
   "id": "71df67a4-9f1b-4500-ab5b-0ee9b8bcb0b8",
   "metadata": {},
   "outputs": [
    {
     "data": {
      "text/html": [
       "<style>#sk-container-id-3 {color: black;background-color: white;}#sk-container-id-3 pre{padding: 0;}#sk-container-id-3 div.sk-toggleable {background-color: white;}#sk-container-id-3 label.sk-toggleable__label {cursor: pointer;display: block;width: 100%;margin-bottom: 0;padding: 0.3em;box-sizing: border-box;text-align: center;}#sk-container-id-3 label.sk-toggleable__label-arrow:before {content: \"▸\";float: left;margin-right: 0.25em;color: #696969;}#sk-container-id-3 label.sk-toggleable__label-arrow:hover:before {color: black;}#sk-container-id-3 div.sk-estimator:hover label.sk-toggleable__label-arrow:before {color: black;}#sk-container-id-3 div.sk-toggleable__content {max-height: 0;max-width: 0;overflow: hidden;text-align: left;background-color: #f0f8ff;}#sk-container-id-3 div.sk-toggleable__content pre {margin: 0.2em;color: black;border-radius: 0.25em;background-color: #f0f8ff;}#sk-container-id-3 input.sk-toggleable__control:checked~div.sk-toggleable__content {max-height: 200px;max-width: 100%;overflow: auto;}#sk-container-id-3 input.sk-toggleable__control:checked~label.sk-toggleable__label-arrow:before {content: \"▾\";}#sk-container-id-3 div.sk-estimator input.sk-toggleable__control:checked~label.sk-toggleable__label {background-color: #d4ebff;}#sk-container-id-3 div.sk-label input.sk-toggleable__control:checked~label.sk-toggleable__label {background-color: #d4ebff;}#sk-container-id-3 input.sk-hidden--visually {border: 0;clip: rect(1px 1px 1px 1px);clip: rect(1px, 1px, 1px, 1px);height: 1px;margin: -1px;overflow: hidden;padding: 0;position: absolute;width: 1px;}#sk-container-id-3 div.sk-estimator {font-family: monospace;background-color: #f0f8ff;border: 1px dotted black;border-radius: 0.25em;box-sizing: border-box;margin-bottom: 0.5em;}#sk-container-id-3 div.sk-estimator:hover {background-color: #d4ebff;}#sk-container-id-3 div.sk-parallel-item::after {content: \"\";width: 100%;border-bottom: 1px solid gray;flex-grow: 1;}#sk-container-id-3 div.sk-label:hover label.sk-toggleable__label {background-color: #d4ebff;}#sk-container-id-3 div.sk-serial::before {content: \"\";position: absolute;border-left: 1px solid gray;box-sizing: border-box;top: 0;bottom: 0;left: 50%;z-index: 0;}#sk-container-id-3 div.sk-serial {display: flex;flex-direction: column;align-items: center;background-color: white;padding-right: 0.2em;padding-left: 0.2em;position: relative;}#sk-container-id-3 div.sk-item {position: relative;z-index: 1;}#sk-container-id-3 div.sk-parallel {display: flex;align-items: stretch;justify-content: center;background-color: white;position: relative;}#sk-container-id-3 div.sk-item::before, #sk-container-id-3 div.sk-parallel-item::before {content: \"\";position: absolute;border-left: 1px solid gray;box-sizing: border-box;top: 0;bottom: 0;left: 50%;z-index: -1;}#sk-container-id-3 div.sk-parallel-item {display: flex;flex-direction: column;z-index: 1;position: relative;background-color: white;}#sk-container-id-3 div.sk-parallel-item:first-child::after {align-self: flex-end;width: 50%;}#sk-container-id-3 div.sk-parallel-item:last-child::after {align-self: flex-start;width: 50%;}#sk-container-id-3 div.sk-parallel-item:only-child::after {width: 0;}#sk-container-id-3 div.sk-dashed-wrapped {border: 1px dashed gray;margin: 0 0.4em 0.5em 0.4em;box-sizing: border-box;padding-bottom: 0.4em;background-color: white;}#sk-container-id-3 div.sk-label label {font-family: monospace;font-weight: bold;display: inline-block;line-height: 1.2em;}#sk-container-id-3 div.sk-label-container {text-align: center;}#sk-container-id-3 div.sk-container {/* jupyter's `normalize.less` sets `[hidden] { display: none; }` but bootstrap.min.css set `[hidden] { display: none !important; }` so we also need the `!important` here to be able to override the default hidden behavior on the sphinx rendered scikit-learn.org. See: https://github.com/scikit-learn/scikit-learn/issues/21755 */display: inline-block !important;position: relative;}#sk-container-id-3 div.sk-text-repr-fallback {display: none;}</style><div id=\"sk-container-id-3\" class=\"sk-top-container\"><div class=\"sk-text-repr-fallback\"><pre>ElasticNetCV(alphas=array([0.5       , 0.50505051, 0.51010101, 0.51515152, 0.52020202,\n",
       "       0.52525253, 0.53030303, 0.53535354, 0.54040404, 0.54545455,\n",
       "       0.55050505, 0.55555556, 0.56060606, 0.56565657, 0.57070707,\n",
       "       0.57575758, 0.58080808, 0.58585859, 0.59090909, 0.5959596 ,\n",
       "       0.6010101 , 0.60606061, 0.61111111, 0.61616162, 0.62121212,\n",
       "       0.62626263, 0.63131313, 0.63636364, 0.64141414, 0.64646465,\n",
       "       0....\n",
       "       0.82828283, 0.83333333, 0.83838384, 0.84343434, 0.84848485,\n",
       "       0.85353535, 0.85858586, 0.86363636, 0.86868687, 0.87373737,\n",
       "       0.87878788, 0.88383838, 0.88888889, 0.89393939, 0.8989899 ,\n",
       "       0.9040404 , 0.90909091, 0.91414141, 0.91919192, 0.92424242,\n",
       "       0.92929293, 0.93434343, 0.93939394, 0.94444444, 0.94949495,\n",
       "       0.95454545, 0.95959596, 0.96464646, 0.96969697, 0.97474747,\n",
       "       0.97979798, 0.98484848, 0.98989899, 0.99494949, 1.        ]),\n",
       "             cv=5)</pre><b>In a Jupyter environment, please rerun this cell to show the HTML representation or trust the notebook. <br />On GitHub, the HTML representation is unable to render, please try loading this page with nbviewer.org.</b></div><div class=\"sk-container\" hidden><div class=\"sk-item\"><div class=\"sk-estimator sk-toggleable\"><input class=\"sk-toggleable__control sk-hidden--visually\" id=\"sk-estimator-id-3\" type=\"checkbox\" checked><label for=\"sk-estimator-id-3\" class=\"sk-toggleable__label sk-toggleable__label-arrow\">ElasticNetCV</label><div class=\"sk-toggleable__content\"><pre>ElasticNetCV(alphas=array([0.5       , 0.50505051, 0.51010101, 0.51515152, 0.52020202,\n",
       "       0.52525253, 0.53030303, 0.53535354, 0.54040404, 0.54545455,\n",
       "       0.55050505, 0.55555556, 0.56060606, 0.56565657, 0.57070707,\n",
       "       0.57575758, 0.58080808, 0.58585859, 0.59090909, 0.5959596 ,\n",
       "       0.6010101 , 0.60606061, 0.61111111, 0.61616162, 0.62121212,\n",
       "       0.62626263, 0.63131313, 0.63636364, 0.64141414, 0.64646465,\n",
       "       0....\n",
       "       0.82828283, 0.83333333, 0.83838384, 0.84343434, 0.84848485,\n",
       "       0.85353535, 0.85858586, 0.86363636, 0.86868687, 0.87373737,\n",
       "       0.87878788, 0.88383838, 0.88888889, 0.89393939, 0.8989899 ,\n",
       "       0.9040404 , 0.90909091, 0.91414141, 0.91919192, 0.92424242,\n",
       "       0.92929293, 0.93434343, 0.93939394, 0.94444444, 0.94949495,\n",
       "       0.95454545, 0.95959596, 0.96464646, 0.96969697, 0.97474747,\n",
       "       0.97979798, 0.98484848, 0.98989899, 0.99494949, 1.        ]),\n",
       "             cv=5)</pre></div></div></div></div></div>"
      ],
      "text/plain": [
       "ElasticNetCV(alphas=array([0.5       , 0.50505051, 0.51010101, 0.51515152, 0.52020202,\n",
       "       0.52525253, 0.53030303, 0.53535354, 0.54040404, 0.54545455,\n",
       "       0.55050505, 0.55555556, 0.56060606, 0.56565657, 0.57070707,\n",
       "       0.57575758, 0.58080808, 0.58585859, 0.59090909, 0.5959596 ,\n",
       "       0.6010101 , 0.60606061, 0.61111111, 0.61616162, 0.62121212,\n",
       "       0.62626263, 0.63131313, 0.63636364, 0.64141414, 0.64646465,\n",
       "       0....\n",
       "       0.82828283, 0.83333333, 0.83838384, 0.84343434, 0.84848485,\n",
       "       0.85353535, 0.85858586, 0.86363636, 0.86868687, 0.87373737,\n",
       "       0.87878788, 0.88383838, 0.88888889, 0.89393939, 0.8989899 ,\n",
       "       0.9040404 , 0.90909091, 0.91414141, 0.91919192, 0.92424242,\n",
       "       0.92929293, 0.93434343, 0.93939394, 0.94444444, 0.94949495,\n",
       "       0.95454545, 0.95959596, 0.96464646, 0.96969697, 0.97474747,\n",
       "       0.97979798, 0.98484848, 0.98989899, 0.99494949, 1.        ]),\n",
       "             cv=5)"
      ]
     },
     "execution_count": 19,
     "metadata": {},
     "output_type": "execute_result"
    }
   ],
   "source": [
    "# Finding best alpha term\n",
    "enet_alphas = np.linspace(0.5, 1.0, 100)# Return evenly spaced numbers over a specified interval\n",
    "enet_cv = ElasticNetCV(alphas=enet_alphas, cv=5) #l1_ratiofloat, default=0.5\n",
    "\n",
    "# Fit model using optimal alpha.\n",
    "enet_cv.fit(X_train, y_train)"
   ]
  },
  {
   "cell_type": "code",
   "execution_count": 20,
   "id": "6c09fbd5-937e-45b1-bfa9-2cbc1ae02b28",
   "metadata": {},
   "outputs": [
    {
     "data": {
      "text/plain": [
       "0.5"
      ]
     },
     "execution_count": 20,
     "metadata": {},
     "output_type": "execute_result"
    }
   ],
   "source": [
    "# Best alpha\n",
    "enet_cv.alpha_"
   ]
  },
  {
   "cell_type": "code",
   "execution_count": 21,
   "id": "280e7abf-56b1-4917-8472-a3861d9b9993",
   "metadata": {},
   "outputs": [],
   "source": [
    "# Instantiate\n",
    "enet = ElasticNet(alpha=enet_cv.alpha_)\n",
    "\n",
    "enet_scores = cross_val_score(lasso, X_train, y_train, cv=7)"
   ]
  },
  {
   "cell_type": "code",
   "execution_count": 22,
   "id": "69747112-70db-4402-b9e3-b3177b8c3467",
   "metadata": {},
   "outputs": [
    {
     "data": {
      "text/plain": [
       "26986.228164549004"
      ]
     },
     "execution_count": 22,
     "metadata": {},
     "output_type": "execute_result"
    }
   ],
   "source": [
    "#cross-validation\n",
    "np.abs(cross_val_score(enet, X_train, y_train, scoring='neg_root_mean_squared_error').mean())"
   ]
  },
  {
   "cell_type": "code",
   "execution_count": 23,
   "id": "05382d2b-8e15-4b46-a2ed-2a82527d6894",
   "metadata": {},
   "outputs": [
    {
     "name": "stdout",
     "output_type": "stream",
     "text": [
      "[0.89884324 0.85208447 0.89749746 0.90632427 0.88709159 0.86739244\n",
      " 0.91346104]\n"
     ]
    },
    {
     "data": {
      "text/plain": [
       "0.8889563576366666"
      ]
     },
     "execution_count": 23,
     "metadata": {},
     "output_type": "execute_result"
    }
   ],
   "source": [
    "#check r2 score\n",
    "enet_scores = cross_val_score(enet, X_train, y_train, cv=7)\n",
    "\n",
    "print(enet_scores)\n",
    "enet_scores.mean() "
   ]
  },
  {
   "cell_type": "code",
   "execution_count": 24,
   "id": "86068371-c44a-4ef2-92ec-c4bf86e810e4",
   "metadata": {},
   "outputs": [
    {
     "data": {
      "text/plain": [
       "58293.51542089644"
      ]
     },
     "execution_count": 24,
     "metadata": {},
     "output_type": "execute_result"
    }
   ],
   "source": [
    "## Evaluation against validation set\n",
    "enet.fit(X_train, y_train)\n",
    "\n",
    "np.sqrt(metrics.mean_squared_error(y_valid, enet.predict(X_valid)))"
   ]
  },
  {
   "cell_type": "markdown",
   "id": "85c06489-5c00-4893-a104-c7e3acda574e",
   "metadata": {},
   "source": [
    "\n",
    "### Initial Kaggle Submission"
   ]
  },
  {
   "cell_type": "code",
   "execution_count": 27,
   "id": "b9e89927-5fbc-46cd-a124-e2d4e9e2b486",
   "metadata": {},
   "outputs": [],
   "source": [
    "def kaggle_submission(preds, model_name):\n",
    "    \n",
    "    submission = pd.DataFrame(data=preds)\n",
    "    submission = pd.merge(ori_test['Id'], submission, left_index = True, right_index = True)\n",
    "    \n",
    "    submission.rename({'Id' : 'ID',\n",
    "                      0 : 'SalePrice'},\n",
    "                     inplace = True,\n",
    "                     axis = 1)\n",
    "    \n",
    "    submission.to_csv(f'../datasets/submission_{model_name}.csv', index=False)\n",
    "    \n",
    "    return submission"
   ]
  },
  {
   "cell_type": "code",
   "execution_count": 28,
   "id": "94c49b57-9a76-4f0a-b003-c04b020f9f63",
   "metadata": {},
   "outputs": [
    {
     "data": {
      "text/html": [
       "<div>\n",
       "<style scoped>\n",
       "    .dataframe tbody tr th:only-of-type {\n",
       "        vertical-align: middle;\n",
       "    }\n",
       "\n",
       "    .dataframe tbody tr th {\n",
       "        vertical-align: top;\n",
       "    }\n",
       "\n",
       "    .dataframe thead th {\n",
       "        text-align: right;\n",
       "    }\n",
       "</style>\n",
       "<table border=\"1\" class=\"dataframe\">\n",
       "  <thead>\n",
       "    <tr style=\"text-align: right;\">\n",
       "      <th></th>\n",
       "      <th>ID</th>\n",
       "      <th>SalePrice</th>\n",
       "    </tr>\n",
       "  </thead>\n",
       "  <tbody>\n",
       "    <tr>\n",
       "      <th>0</th>\n",
       "      <td>2658</td>\n",
       "      <td>116977.0</td>\n",
       "    </tr>\n",
       "    <tr>\n",
       "      <th>1</th>\n",
       "      <td>2718</td>\n",
       "      <td>165235.0</td>\n",
       "    </tr>\n",
       "    <tr>\n",
       "      <th>2</th>\n",
       "      <td>2414</td>\n",
       "      <td>226768.0</td>\n",
       "    </tr>\n",
       "    <tr>\n",
       "      <th>3</th>\n",
       "      <td>1989</td>\n",
       "      <td>108813.0</td>\n",
       "    </tr>\n",
       "    <tr>\n",
       "      <th>4</th>\n",
       "      <td>625</td>\n",
       "      <td>176170.0</td>\n",
       "    </tr>\n",
       "    <tr>\n",
       "      <th>...</th>\n",
       "      <td>...</td>\n",
       "      <td>...</td>\n",
       "    </tr>\n",
       "    <tr>\n",
       "      <th>873</th>\n",
       "      <td>1662</td>\n",
       "      <td>174457.0</td>\n",
       "    </tr>\n",
       "    <tr>\n",
       "      <th>874</th>\n",
       "      <td>1234</td>\n",
       "      <td>214885.0</td>\n",
       "    </tr>\n",
       "    <tr>\n",
       "      <th>875</th>\n",
       "      <td>1373</td>\n",
       "      <td>123810.0</td>\n",
       "    </tr>\n",
       "    <tr>\n",
       "      <th>876</th>\n",
       "      <td>1672</td>\n",
       "      <td>119036.0</td>\n",
       "    </tr>\n",
       "    <tr>\n",
       "      <th>877</th>\n",
       "      <td>1939</td>\n",
       "      <td>109851.0</td>\n",
       "    </tr>\n",
       "  </tbody>\n",
       "</table>\n",
       "<p>878 rows × 2 columns</p>\n",
       "</div>"
      ],
      "text/plain": [
       "       ID  SalePrice\n",
       "0    2658   116977.0\n",
       "1    2718   165235.0\n",
       "2    2414   226768.0\n",
       "3    1989   108813.0\n",
       "4     625   176170.0\n",
       "..    ...        ...\n",
       "873  1662   174457.0\n",
       "874  1234   214885.0\n",
       "875  1373   123810.0\n",
       "876  1672   119036.0\n",
       "877  1939   109851.0\n",
       "\n",
       "[878 rows x 2 columns]"
      ]
     },
     "execution_count": 28,
     "metadata": {},
     "output_type": "execute_result"
    }
   ],
   "source": [
    "test_preds_lr = lr.predict(X_test)\n",
    "kaggle_submission(test_preds_lr, 'linear_reg_01')"
   ]
  },
  {
   "cell_type": "code",
   "execution_count": 29,
   "id": "aa92bb75-e97a-4006-94ef-8a4286a4445a",
   "metadata": {},
   "outputs": [
    {
     "data": {
      "text/html": [
       "<div>\n",
       "<style scoped>\n",
       "    .dataframe tbody tr th:only-of-type {\n",
       "        vertical-align: middle;\n",
       "    }\n",
       "\n",
       "    .dataframe tbody tr th {\n",
       "        vertical-align: top;\n",
       "    }\n",
       "\n",
       "    .dataframe thead th {\n",
       "        text-align: right;\n",
       "    }\n",
       "</style>\n",
       "<table border=\"1\" class=\"dataframe\">\n",
       "  <thead>\n",
       "    <tr style=\"text-align: right;\">\n",
       "      <th></th>\n",
       "      <th>ID</th>\n",
       "      <th>SalePrice</th>\n",
       "    </tr>\n",
       "  </thead>\n",
       "  <tbody>\n",
       "    <tr>\n",
       "      <th>0</th>\n",
       "      <td>2658</td>\n",
       "      <td>119823.519988</td>\n",
       "    </tr>\n",
       "    <tr>\n",
       "      <th>1</th>\n",
       "      <td>2718</td>\n",
       "      <td>162643.733657</td>\n",
       "    </tr>\n",
       "    <tr>\n",
       "      <th>2</th>\n",
       "      <td>2414</td>\n",
       "      <td>228753.268910</td>\n",
       "    </tr>\n",
       "    <tr>\n",
       "      <th>3</th>\n",
       "      <td>1989</td>\n",
       "      <td>110789.166687</td>\n",
       "    </tr>\n",
       "    <tr>\n",
       "      <th>4</th>\n",
       "      <td>625</td>\n",
       "      <td>175069.051031</td>\n",
       "    </tr>\n",
       "    <tr>\n",
       "      <th>...</th>\n",
       "      <td>...</td>\n",
       "      <td>...</td>\n",
       "    </tr>\n",
       "    <tr>\n",
       "      <th>873</th>\n",
       "      <td>1662</td>\n",
       "      <td>175625.971555</td>\n",
       "    </tr>\n",
       "    <tr>\n",
       "      <th>874</th>\n",
       "      <td>1234</td>\n",
       "      <td>219981.573215</td>\n",
       "    </tr>\n",
       "    <tr>\n",
       "      <th>875</th>\n",
       "      <td>1373</td>\n",
       "      <td>124785.062032</td>\n",
       "    </tr>\n",
       "    <tr>\n",
       "      <th>876</th>\n",
       "      <td>1672</td>\n",
       "      <td>119634.484012</td>\n",
       "    </tr>\n",
       "    <tr>\n",
       "      <th>877</th>\n",
       "      <td>1939</td>\n",
       "      <td>109524.543827</td>\n",
       "    </tr>\n",
       "  </tbody>\n",
       "</table>\n",
       "<p>878 rows × 2 columns</p>\n",
       "</div>"
      ],
      "text/plain": [
       "       ID      SalePrice\n",
       "0    2658  119823.519988\n",
       "1    2718  162643.733657\n",
       "2    2414  228753.268910\n",
       "3    1989  110789.166687\n",
       "4     625  175069.051031\n",
       "..    ...            ...\n",
       "873  1662  175625.971555\n",
       "874  1234  219981.573215\n",
       "875  1373  124785.062032\n",
       "876  1672  119634.484012\n",
       "877  1939  109524.543827\n",
       "\n",
       "[878 rows x 2 columns]"
      ]
     },
     "execution_count": 29,
     "metadata": {},
     "output_type": "execute_result"
    }
   ],
   "source": [
    "test_preds_ridge = ridge.predict(X_test)\n",
    "kaggle_submission(test_preds_ridge, 'ridge_01')"
   ]
  },
  {
   "cell_type": "code",
   "execution_count": 30,
   "id": "191efbe2-eddd-4833-bc26-8b23c8bd69c2",
   "metadata": {},
   "outputs": [
    {
     "data": {
      "text/html": [
       "<div>\n",
       "<style scoped>\n",
       "    .dataframe tbody tr th:only-of-type {\n",
       "        vertical-align: middle;\n",
       "    }\n",
       "\n",
       "    .dataframe tbody tr th {\n",
       "        vertical-align: top;\n",
       "    }\n",
       "\n",
       "    .dataframe thead th {\n",
       "        text-align: right;\n",
       "    }\n",
       "</style>\n",
       "<table border=\"1\" class=\"dataframe\">\n",
       "  <thead>\n",
       "    <tr style=\"text-align: right;\">\n",
       "      <th></th>\n",
       "      <th>ID</th>\n",
       "      <th>SalePrice</th>\n",
       "    </tr>\n",
       "  </thead>\n",
       "  <tbody>\n",
       "    <tr>\n",
       "      <th>0</th>\n",
       "      <td>2658</td>\n",
       "      <td>124701.714780</td>\n",
       "    </tr>\n",
       "    <tr>\n",
       "      <th>1</th>\n",
       "      <td>2718</td>\n",
       "      <td>161796.819796</td>\n",
       "    </tr>\n",
       "    <tr>\n",
       "      <th>2</th>\n",
       "      <td>2414</td>\n",
       "      <td>227893.738547</td>\n",
       "    </tr>\n",
       "    <tr>\n",
       "      <th>3</th>\n",
       "      <td>1989</td>\n",
       "      <td>111214.428149</td>\n",
       "    </tr>\n",
       "    <tr>\n",
       "      <th>4</th>\n",
       "      <td>625</td>\n",
       "      <td>175262.519510</td>\n",
       "    </tr>\n",
       "    <tr>\n",
       "      <th>...</th>\n",
       "      <td>...</td>\n",
       "      <td>...</td>\n",
       "    </tr>\n",
       "    <tr>\n",
       "      <th>873</th>\n",
       "      <td>1662</td>\n",
       "      <td>177639.222173</td>\n",
       "    </tr>\n",
       "    <tr>\n",
       "      <th>874</th>\n",
       "      <td>1234</td>\n",
       "      <td>223838.794251</td>\n",
       "    </tr>\n",
       "    <tr>\n",
       "      <th>875</th>\n",
       "      <td>1373</td>\n",
       "      <td>125490.685318</td>\n",
       "    </tr>\n",
       "    <tr>\n",
       "      <th>876</th>\n",
       "      <td>1672</td>\n",
       "      <td>120208.846956</td>\n",
       "    </tr>\n",
       "    <tr>\n",
       "      <th>877</th>\n",
       "      <td>1939</td>\n",
       "      <td>110252.972699</td>\n",
       "    </tr>\n",
       "  </tbody>\n",
       "</table>\n",
       "<p>878 rows × 2 columns</p>\n",
       "</div>"
      ],
      "text/plain": [
       "       ID      SalePrice\n",
       "0    2658  124701.714780\n",
       "1    2718  161796.819796\n",
       "2    2414  227893.738547\n",
       "3    1989  111214.428149\n",
       "4     625  175262.519510\n",
       "..    ...            ...\n",
       "873  1662  177639.222173\n",
       "874  1234  223838.794251\n",
       "875  1373  125490.685318\n",
       "876  1672  120208.846956\n",
       "877  1939  110252.972699\n",
       "\n",
       "[878 rows x 2 columns]"
      ]
     },
     "execution_count": 30,
     "metadata": {},
     "output_type": "execute_result"
    }
   ],
   "source": [
    "test_preds_lasso = lasso.predict(X_test)\n",
    "kaggle_submission(test_preds_lasso, 'lasso_01')"
   ]
  },
  {
   "cell_type": "code",
   "execution_count": 31,
   "id": "517a8b16-69ad-4b33-a21e-592a4117c009",
   "metadata": {},
   "outputs": [
    {
     "data": {
      "text/html": [
       "<div>\n",
       "<style scoped>\n",
       "    .dataframe tbody tr th:only-of-type {\n",
       "        vertical-align: middle;\n",
       "    }\n",
       "\n",
       "    .dataframe tbody tr th {\n",
       "        vertical-align: top;\n",
       "    }\n",
       "\n",
       "    .dataframe thead th {\n",
       "        text-align: right;\n",
       "    }\n",
       "</style>\n",
       "<table border=\"1\" class=\"dataframe\">\n",
       "  <thead>\n",
       "    <tr style=\"text-align: right;\">\n",
       "      <th></th>\n",
       "      <th>ID</th>\n",
       "      <th>SalePrice</th>\n",
       "    </tr>\n",
       "  </thead>\n",
       "  <tbody>\n",
       "    <tr>\n",
       "      <th>0</th>\n",
       "      <td>2658</td>\n",
       "      <td>135077.074159</td>\n",
       "    </tr>\n",
       "    <tr>\n",
       "      <th>1</th>\n",
       "      <td>2718</td>\n",
       "      <td>182191.972436</td>\n",
       "    </tr>\n",
       "    <tr>\n",
       "      <th>2</th>\n",
       "      <td>2414</td>\n",
       "      <td>219457.219187</td>\n",
       "    </tr>\n",
       "    <tr>\n",
       "      <th>3</th>\n",
       "      <td>1989</td>\n",
       "      <td>111127.571510</td>\n",
       "    </tr>\n",
       "    <tr>\n",
       "      <th>4</th>\n",
       "      <td>625</td>\n",
       "      <td>179287.691137</td>\n",
       "    </tr>\n",
       "    <tr>\n",
       "      <th>...</th>\n",
       "      <td>...</td>\n",
       "      <td>...</td>\n",
       "    </tr>\n",
       "    <tr>\n",
       "      <th>873</th>\n",
       "      <td>1662</td>\n",
       "      <td>181575.315710</td>\n",
       "    </tr>\n",
       "    <tr>\n",
       "      <th>874</th>\n",
       "      <td>1234</td>\n",
       "      <td>243646.707558</td>\n",
       "    </tr>\n",
       "    <tr>\n",
       "      <th>875</th>\n",
       "      <td>1373</td>\n",
       "      <td>128393.083099</td>\n",
       "    </tr>\n",
       "    <tr>\n",
       "      <th>876</th>\n",
       "      <td>1672</td>\n",
       "      <td>114338.061998</td>\n",
       "    </tr>\n",
       "    <tr>\n",
       "      <th>877</th>\n",
       "      <td>1939</td>\n",
       "      <td>115073.149298</td>\n",
       "    </tr>\n",
       "  </tbody>\n",
       "</table>\n",
       "<p>878 rows × 2 columns</p>\n",
       "</div>"
      ],
      "text/plain": [
       "       ID      SalePrice\n",
       "0    2658  135077.074159\n",
       "1    2718  182191.972436\n",
       "2    2414  219457.219187\n",
       "3    1989  111127.571510\n",
       "4     625  179287.691137\n",
       "..    ...            ...\n",
       "873  1662  181575.315710\n",
       "874  1234  243646.707558\n",
       "875  1373  128393.083099\n",
       "876  1672  114338.061998\n",
       "877  1939  115073.149298\n",
       "\n",
       "[878 rows x 2 columns]"
      ]
     },
     "execution_count": 31,
     "metadata": {},
     "output_type": "execute_result"
    }
   ],
   "source": [
    "test_preds_enet = enet.predict(X_test)\n",
    "kaggle_submission(test_preds_enet, 'enet_01')"
   ]
  },
  {
   "cell_type": "markdown",
   "id": "b5a03608-a79c-48dd-b1ac-a7d2a7864d8a",
   "metadata": {},
   "source": [
    "We run through our datasets through 4 regression models; Linear, Ridge, Lasso and ElasticNet.\n",
    "\n",
    "\n",
    "|Model | Penalty | α | Train Score | Cross-Validation Score | Kaggle Score (Public) |\n",
    "|---|---|---|---|---|---|\n",
    "| Linear Regression | - | - | -1.28e+20 | 3.283 e+14| 7.0848e+14 |\n",
    "| Ridge Regression | L2 | 4.5 | 0.9052 | 24825.2468 | 23432.86209 |\n",
    "| Lasso Regression | L1 | 65.4625 | 0.9075 | 24682.6912 | 23531.36260 |\n",
    "| ElasticNet Regression | L1+L2 | 0.5 | 0.8889 | 26986.2282 | 28275.50000 |\n",
    "\n",
    "For Linear, the scores show that the model is not useful in this dataset, especially when there are 191 features, after pre-processing, and Linear Regression does not regularization and so, the 'noise' that may be present in the model is still taken into consideration.\n",
    "\n",
    "As for the Ridge and Lasso models, they had the better scores across the scoring metric out of the four models, with Lasso being slightly better. They also scored well on Kaggle upon the first submission on the website. The main reason for this is that these regressions regularize the models and shrink the regression coefficients. Features that are deemed to be unimportant in contributing to the predictive value of the model are given smaller coefficients. Thus, the models tend to have lower variance and can generalise to new data better. Even though both ridge and lasso saw a significant result and prediction score, lasso saw a best score among the three regression models. This is because Lasso shrinks the irrelevant features to zero and allows the model for a better prediction model.\n",
    "\n",
    "Despite the good results, we will not stop here. There are 191 features in the dataset (58 before OneHot encoding) and with such a high number of features, the model may interpret these features differently. Therefore, to improve the model, we must reduce the complexity of it. Even with regularization, there may still be 'noise' in the model which may affect the model predictability.\n",
    "\n",
    "We will seek to reduce number of features through recursive feature elimination [(RFE)](https://scikit-learn.org/stable/modules/generated/sklearn.feature_selection.RFE.html) which select features by recursively considering smaller and smaller sets of features and filter those with the higher correlation with `'saleprice'`.\n",
    "\n",
    "Following which, hyperparamter tuning will be done on the reduced features selected by RFE to see if any improvements are seen."
   ]
  },
  {
   "cell_type": "markdown",
   "id": "9b20e41c-3187-4e29-b96f-582a1c23b8cb",
   "metadata": {},
   "source": [
    "------------------------------------------------\n",
    "## Model Improvement"
   ]
  },
  {
   "cell_type": "markdown",
   "id": "c6cd31da-9181-46ee-aad6-df929795bbe8",
   "metadata": {},
   "source": [
    "### Feature Selection by RFE"
   ]
  },
  {
   "cell_type": "code",
   "execution_count": 32,
   "id": "13a92542-5a2e-4018-ab64-daac381ec154",
   "metadata": {},
   "outputs": [
    {
     "name": "stdout",
     "output_type": "stream",
     "text": [
      "CVS for top 50 is : 24027.160799227167\n",
      "R2 cross for top 50 is 0.9129333449989058\n",
      "Validation score for top 50 is : 75879.80581327048\n",
      "------------------------------\n"
     ]
    }
   ],
   "source": [
    "# Using similar alpha for ease of computation\n",
    "model = Lasso(alpha=lasso_cv.alpha_, max_iter=10000)\n",
    "rfe = RFE(model, n_features_to_select=50)\n",
    "\n",
    "# Fitting to training data\n",
    "X_train_rfe = rfe.fit_transform(X_train, y_train)\n",
    "model.fit(X_train_rfe, y_train)\n",
    "\n",
    "# Tabulating RFE results\n",
    "rfe_results = [np.array(X_train.columns), rfe.ranking_]\n",
    "rfe_results_df = pd.DataFrame(rfe_results).T\n",
    "rfe_results_df.columns = ['Feature', 'RFE Ranking']\n",
    "\n",
    "# Finding features used by lasso (1 means feature was used)\n",
    "rfe_lasso_features = rfe_results_df.loc[rfe_results_df['RFE Ranking'] == 1, 'Feature'].tolist()\n",
    "\n",
    "#filtering the top features by RFE\n",
    "X_train_reduced = X_train[rfe_lasso_features]\n",
    "\n",
    "#Instantiate and fit\n",
    "lasso_cv_reduced = LassoCV(n_alphas=100, max_iter=10000)\n",
    "lasso_cv_reduced.fit(X_train_reduced, y_train)\n",
    "\n",
    "#modelling\n",
    "lasso_reduced = Lasso(alpha=lasso_cv_reduced.alpha_, max_iter=10000)\n",
    "\n",
    "print(f'CVS for top 50 is : {np.abs(cross_val_score(lasso_reduced, X_train_reduced, y_train, scoring=\"neg_root_mean_squared_error\").mean())}')\n",
    "print(f'R2 cross for top 50 is {(cross_val_score(lasso_reduced, X_train_reduced, y_train, cv=3)).mean()}')\n",
    "\n",
    "lasso_reduced.fit(X_train_reduced, y_train)\n",
    "\n",
    "print(f'Validation score for top 50 is : {np.sqrt(metrics.mean_squared_error(y_valid, lasso_reduced.predict(X_valid[rfe_lasso_features])))}')\n",
    "print('-'*30)"
   ]
  },
  {
   "cell_type": "code",
   "execution_count": 33,
   "id": "89ed50cc-bf46-48c5-ac7a-5d4d061f07e0",
   "metadata": {},
   "outputs": [
    {
     "data": {
      "text/html": [
       "<style>#sk-container-id-4 {color: black;background-color: white;}#sk-container-id-4 pre{padding: 0;}#sk-container-id-4 div.sk-toggleable {background-color: white;}#sk-container-id-4 label.sk-toggleable__label {cursor: pointer;display: block;width: 100%;margin-bottom: 0;padding: 0.3em;box-sizing: border-box;text-align: center;}#sk-container-id-4 label.sk-toggleable__label-arrow:before {content: \"▸\";float: left;margin-right: 0.25em;color: #696969;}#sk-container-id-4 label.sk-toggleable__label-arrow:hover:before {color: black;}#sk-container-id-4 div.sk-estimator:hover label.sk-toggleable__label-arrow:before {color: black;}#sk-container-id-4 div.sk-toggleable__content {max-height: 0;max-width: 0;overflow: hidden;text-align: left;background-color: #f0f8ff;}#sk-container-id-4 div.sk-toggleable__content pre {margin: 0.2em;color: black;border-radius: 0.25em;background-color: #f0f8ff;}#sk-container-id-4 input.sk-toggleable__control:checked~div.sk-toggleable__content {max-height: 200px;max-width: 100%;overflow: auto;}#sk-container-id-4 input.sk-toggleable__control:checked~label.sk-toggleable__label-arrow:before {content: \"▾\";}#sk-container-id-4 div.sk-estimator input.sk-toggleable__control:checked~label.sk-toggleable__label {background-color: #d4ebff;}#sk-container-id-4 div.sk-label input.sk-toggleable__control:checked~label.sk-toggleable__label {background-color: #d4ebff;}#sk-container-id-4 input.sk-hidden--visually {border: 0;clip: rect(1px 1px 1px 1px);clip: rect(1px, 1px, 1px, 1px);height: 1px;margin: -1px;overflow: hidden;padding: 0;position: absolute;width: 1px;}#sk-container-id-4 div.sk-estimator {font-family: monospace;background-color: #f0f8ff;border: 1px dotted black;border-radius: 0.25em;box-sizing: border-box;margin-bottom: 0.5em;}#sk-container-id-4 div.sk-estimator:hover {background-color: #d4ebff;}#sk-container-id-4 div.sk-parallel-item::after {content: \"\";width: 100%;border-bottom: 1px solid gray;flex-grow: 1;}#sk-container-id-4 div.sk-label:hover label.sk-toggleable__label {background-color: #d4ebff;}#sk-container-id-4 div.sk-serial::before {content: \"\";position: absolute;border-left: 1px solid gray;box-sizing: border-box;top: 0;bottom: 0;left: 50%;z-index: 0;}#sk-container-id-4 div.sk-serial {display: flex;flex-direction: column;align-items: center;background-color: white;padding-right: 0.2em;padding-left: 0.2em;position: relative;}#sk-container-id-4 div.sk-item {position: relative;z-index: 1;}#sk-container-id-4 div.sk-parallel {display: flex;align-items: stretch;justify-content: center;background-color: white;position: relative;}#sk-container-id-4 div.sk-item::before, #sk-container-id-4 div.sk-parallel-item::before {content: \"\";position: absolute;border-left: 1px solid gray;box-sizing: border-box;top: 0;bottom: 0;left: 50%;z-index: -1;}#sk-container-id-4 div.sk-parallel-item {display: flex;flex-direction: column;z-index: 1;position: relative;background-color: white;}#sk-container-id-4 div.sk-parallel-item:first-child::after {align-self: flex-end;width: 50%;}#sk-container-id-4 div.sk-parallel-item:last-child::after {align-self: flex-start;width: 50%;}#sk-container-id-4 div.sk-parallel-item:only-child::after {width: 0;}#sk-container-id-4 div.sk-dashed-wrapped {border: 1px dashed gray;margin: 0 0.4em 0.5em 0.4em;box-sizing: border-box;padding-bottom: 0.4em;background-color: white;}#sk-container-id-4 div.sk-label label {font-family: monospace;font-weight: bold;display: inline-block;line-height: 1.2em;}#sk-container-id-4 div.sk-label-container {text-align: center;}#sk-container-id-4 div.sk-container {/* jupyter's `normalize.less` sets `[hidden] { display: none; }` but bootstrap.min.css set `[hidden] { display: none !important; }` so we also need the `!important` here to be able to override the default hidden behavior on the sphinx rendered scikit-learn.org. See: https://github.com/scikit-learn/scikit-learn/issues/21755 */display: inline-block !important;position: relative;}#sk-container-id-4 div.sk-text-repr-fallback {display: none;}</style><div id=\"sk-container-id-4\" class=\"sk-top-container\"><div class=\"sk-text-repr-fallback\"><pre>Lasso(alpha=62.17652173732708, max_iter=10000)</pre><b>In a Jupyter environment, please rerun this cell to show the HTML representation or trust the notebook. <br />On GitHub, the HTML representation is unable to render, please try loading this page with nbviewer.org.</b></div><div class=\"sk-container\" hidden><div class=\"sk-item\"><div class=\"sk-estimator sk-toggleable\"><input class=\"sk-toggleable__control sk-hidden--visually\" id=\"sk-estimator-id-4\" type=\"checkbox\" checked><label for=\"sk-estimator-id-4\" class=\"sk-toggleable__label sk-toggleable__label-arrow\">Lasso</label><div class=\"sk-toggleable__content\"><pre>Lasso(alpha=62.17652173732708, max_iter=10000)</pre></div></div></div></div></div>"
      ],
      "text/plain": [
       "Lasso(alpha=62.17652173732708, max_iter=10000)"
      ]
     },
     "execution_count": 33,
     "metadata": {},
     "output_type": "execute_result"
    }
   ],
   "source": [
    "lasso_reduced = Lasso(alpha=lasso_cv_reduced.alpha_, max_iter=10000)\n",
    "lasso_reduced.fit(X_train_reduced, y_train)"
   ]
  },
  {
   "cell_type": "code",
   "execution_count": 34,
   "id": "1ba94d5a-652b-4213-bbd7-b864f4fbb5fb",
   "metadata": {},
   "outputs": [
    {
     "data": {
      "text/html": [
       "<div>\n",
       "<style scoped>\n",
       "    .dataframe tbody tr th:only-of-type {\n",
       "        vertical-align: middle;\n",
       "    }\n",
       "\n",
       "    .dataframe tbody tr th {\n",
       "        vertical-align: top;\n",
       "    }\n",
       "\n",
       "    .dataframe thead th {\n",
       "        text-align: right;\n",
       "    }\n",
       "</style>\n",
       "<table border=\"1\" class=\"dataframe\">\n",
       "  <thead>\n",
       "    <tr style=\"text-align: right;\">\n",
       "      <th></th>\n",
       "      <th>ID</th>\n",
       "      <th>SalePrice</th>\n",
       "    </tr>\n",
       "  </thead>\n",
       "  <tbody>\n",
       "    <tr>\n",
       "      <th>0</th>\n",
       "      <td>2658</td>\n",
       "      <td>121050.426761</td>\n",
       "    </tr>\n",
       "    <tr>\n",
       "      <th>1</th>\n",
       "      <td>2718</td>\n",
       "      <td>165006.617865</td>\n",
       "    </tr>\n",
       "    <tr>\n",
       "      <th>2</th>\n",
       "      <td>2414</td>\n",
       "      <td>225534.314439</td>\n",
       "    </tr>\n",
       "    <tr>\n",
       "      <th>3</th>\n",
       "      <td>1989</td>\n",
       "      <td>114297.517715</td>\n",
       "    </tr>\n",
       "    <tr>\n",
       "      <th>4</th>\n",
       "      <td>625</td>\n",
       "      <td>179929.384843</td>\n",
       "    </tr>\n",
       "    <tr>\n",
       "      <th>...</th>\n",
       "      <td>...</td>\n",
       "      <td>...</td>\n",
       "    </tr>\n",
       "    <tr>\n",
       "      <th>873</th>\n",
       "      <td>1662</td>\n",
       "      <td>178843.977952</td>\n",
       "    </tr>\n",
       "    <tr>\n",
       "      <th>874</th>\n",
       "      <td>1234</td>\n",
       "      <td>225483.814882</td>\n",
       "    </tr>\n",
       "    <tr>\n",
       "      <th>875</th>\n",
       "      <td>1373</td>\n",
       "      <td>123746.566750</td>\n",
       "    </tr>\n",
       "    <tr>\n",
       "      <th>876</th>\n",
       "      <td>1672</td>\n",
       "      <td>123058.037515</td>\n",
       "    </tr>\n",
       "    <tr>\n",
       "      <th>877</th>\n",
       "      <td>1939</td>\n",
       "      <td>114841.667416</td>\n",
       "    </tr>\n",
       "  </tbody>\n",
       "</table>\n",
       "<p>878 rows × 2 columns</p>\n",
       "</div>"
      ],
      "text/plain": [
       "       ID      SalePrice\n",
       "0    2658  121050.426761\n",
       "1    2718  165006.617865\n",
       "2    2414  225534.314439\n",
       "3    1989  114297.517715\n",
       "4     625  179929.384843\n",
       "..    ...            ...\n",
       "873  1662  178843.977952\n",
       "874  1234  225483.814882\n",
       "875  1373  123746.566750\n",
       "876  1672  123058.037515\n",
       "877  1939  114841.667416\n",
       "\n",
       "[878 rows x 2 columns]"
      ]
     },
     "execution_count": 34,
     "metadata": {},
     "output_type": "execute_result"
    }
   ],
   "source": [
    "#predicting for X_test for the top 50 features for lasso\n",
    "test_preds_lasso_reduced = lasso_reduced.predict(X_test[rfe_lasso_features])\n",
    "kaggle_submission(test_preds_lasso_reduced, 'lasso_02')"
   ]
  },
  {
   "cell_type": "markdown",
   "id": "e5bbe33f-3608-4eb5-b2d8-33599c67ff96",
   "metadata": {},
   "source": [
    "Based on our top 50 features based on RFE, the new Kaggle scores is shown to be a no improvement, despite having an improved scores on our model scoring metrics.\n",
    "Kaggle score was **23643.55423**"
   ]
  },
  {
   "cell_type": "markdown",
   "id": "cff7ad93-048b-484d-8fbc-c01bca46131a",
   "metadata": {},
   "source": [
    "### Hyperparameter Tuning"
   ]
  },
  {
   "cell_type": "code",
   "execution_count": 35,
   "id": "83b87473-a847-4840-80d3-1c3c7e8d7655",
   "metadata": {},
   "outputs": [],
   "source": [
    "# Lasso \n",
    "lasso_reduced_hyper = Lasso()\n",
    "# define model evaluation method\n",
    "cv = RepeatedKFold(n_splits=10, n_repeats=3, random_state=1)\n",
    "# define grid\n",
    "lasso_params = {'alpha':[0.005, 0.02, 0.03, 0.05, 0.06]}\n",
    "# define search\n",
    "search = GridSearchCV(lasso_reduced_hyper , lasso_params, scoring='neg_mean_absolute_error', cv=cv, n_jobs=-1)\n",
    "# perform the search\n",
    "results = search.fit(X_train[rfe_lasso_features], y_train)"
   ]
  },
  {
   "cell_type": "code",
   "execution_count": 36,
   "id": "f468492f-6330-4bea-a4d0-126da05eddbb",
   "metadata": {},
   "outputs": [
    {
     "data": {
      "text/plain": [
       "-16752.102348632536"
      ]
     },
     "execution_count": 36,
     "metadata": {},
     "output_type": "execute_result"
    }
   ],
   "source": [
    "results.best_score_"
   ]
  },
  {
   "cell_type": "code",
   "execution_count": 37,
   "id": "ae05a683-ba87-48fc-afcb-7fc8c61a5122",
   "metadata": {},
   "outputs": [
    {
     "data": {
      "text/plain": [
       "{'alpha': 0.06}"
      ]
     },
     "execution_count": 37,
     "metadata": {},
     "output_type": "execute_result"
    }
   ],
   "source": [
    "results.best_params_"
   ]
  },
  {
   "cell_type": "code",
   "execution_count": 38,
   "id": "31468737-729c-488e-b4e9-849a44194859",
   "metadata": {},
   "outputs": [
    {
     "name": "stdout",
     "output_type": "stream",
     "text": [
      "0.9147039340409826\n"
     ]
    },
    {
     "data": {
      "text/plain": [
       "23590.34855303373"
      ]
     },
     "execution_count": 38,
     "metadata": {},
     "output_type": "execute_result"
    }
   ],
   "source": [
    "# Instantiate\n",
    "lasso_reduced_hyper = Lasso(alpha=0.06, max_iter=50000)\n",
    "\n",
    "#check r2 score\n",
    "print((cross_val_score(lasso_reduced_hyper , X_train[rfe_lasso_features], y_train)).mean())\n",
    "\n",
    "#cross-validation\n",
    "np.abs(cross_val_score(lasso_reduced_hyper , X_train[rfe_lasso_features], y_train, scoring='neg_root_mean_squared_error').mean())"
   ]
  },
  {
   "cell_type": "code",
   "execution_count": 39,
   "id": "87ab149a-afa0-468f-a78a-2967ce4caec7",
   "metadata": {},
   "outputs": [
    {
     "data": {
      "text/html": [
       "<div>\n",
       "<style scoped>\n",
       "    .dataframe tbody tr th:only-of-type {\n",
       "        vertical-align: middle;\n",
       "    }\n",
       "\n",
       "    .dataframe tbody tr th {\n",
       "        vertical-align: top;\n",
       "    }\n",
       "\n",
       "    .dataframe thead th {\n",
       "        text-align: right;\n",
       "    }\n",
       "</style>\n",
       "<table border=\"1\" class=\"dataframe\">\n",
       "  <thead>\n",
       "    <tr style=\"text-align: right;\">\n",
       "      <th></th>\n",
       "      <th>ID</th>\n",
       "      <th>SalePrice</th>\n",
       "    </tr>\n",
       "  </thead>\n",
       "  <tbody>\n",
       "    <tr>\n",
       "      <th>0</th>\n",
       "      <td>2658</td>\n",
       "      <td>118267.055515</td>\n",
       "    </tr>\n",
       "    <tr>\n",
       "      <th>1</th>\n",
       "      <td>2718</td>\n",
       "      <td>164308.939933</td>\n",
       "    </tr>\n",
       "    <tr>\n",
       "      <th>2</th>\n",
       "      <td>2414</td>\n",
       "      <td>225176.048107</td>\n",
       "    </tr>\n",
       "    <tr>\n",
       "      <th>3</th>\n",
       "      <td>1989</td>\n",
       "      <td>113385.923705</td>\n",
       "    </tr>\n",
       "    <tr>\n",
       "      <th>4</th>\n",
       "      <td>625</td>\n",
       "      <td>180408.426183</td>\n",
       "    </tr>\n",
       "    <tr>\n",
       "      <th>...</th>\n",
       "      <td>...</td>\n",
       "      <td>...</td>\n",
       "    </tr>\n",
       "    <tr>\n",
       "      <th>873</th>\n",
       "      <td>1662</td>\n",
       "      <td>176987.195284</td>\n",
       "    </tr>\n",
       "    <tr>\n",
       "      <th>874</th>\n",
       "      <td>1234</td>\n",
       "      <td>222286.354199</td>\n",
       "    </tr>\n",
       "    <tr>\n",
       "      <th>875</th>\n",
       "      <td>1373</td>\n",
       "      <td>122764.825593</td>\n",
       "    </tr>\n",
       "    <tr>\n",
       "      <th>876</th>\n",
       "      <td>1672</td>\n",
       "      <td>122668.341464</td>\n",
       "    </tr>\n",
       "    <tr>\n",
       "      <th>877</th>\n",
       "      <td>1939</td>\n",
       "      <td>114532.787692</td>\n",
       "    </tr>\n",
       "  </tbody>\n",
       "</table>\n",
       "<p>878 rows × 2 columns</p>\n",
       "</div>"
      ],
      "text/plain": [
       "       ID      SalePrice\n",
       "0    2658  118267.055515\n",
       "1    2718  164308.939933\n",
       "2    2414  225176.048107\n",
       "3    1989  113385.923705\n",
       "4     625  180408.426183\n",
       "..    ...            ...\n",
       "873  1662  176987.195284\n",
       "874  1234  222286.354199\n",
       "875  1373  122764.825593\n",
       "876  1672  122668.341464\n",
       "877  1939  114532.787692\n",
       "\n",
       "[878 rows x 2 columns]"
      ]
     },
     "execution_count": 39,
     "metadata": {},
     "output_type": "execute_result"
    }
   ],
   "source": [
    "lasso_reduced_hyper.fit(X_train[rfe_lasso_features], y_train)\n",
    "test_preds_lasso_hyper = lasso_reduced_hyper.predict(X_test[rfe_lasso_features])\n",
    "\n",
    "#making kaggle submission dataset\n",
    "kaggle_submission(test_preds_lasso_hyper , 'lasso_03')"
   ]
  },
  {
   "cell_type": "markdown",
   "id": "5393d1a1-3a7a-4f88-ab0d-18ce5a7029ca",
   "metadata": {},
   "source": [
    "Based on our top 50 features based on RFE and after hyperparameter tuning, the new Kaggle scores is shown to be a no improvement as well, despite having an improved scores on our model scoring metrics.\n",
    "Kaggle score was **23605.50435**"
   ]
  },
  {
   "cell_type": "markdown",
   "id": "c9231a9d-768c-433b-baf1-e6665a08d4d9",
   "metadata": {},
   "source": [
    "------------------------------------------------\n",
    "## Conclusion\n",
    "\n",
    "The final production model used was the Lasso Regression Model with 50 features selected using Recursive Feature Elimination (Lasso Regression). Even though it showed good metrics scoring result after validating with our valid dataset, the final Kaggle score showed no improvement, especially after the hyperparameter tuning process. This is likely due to the fact that CV models were already used initially to find the best alpha to fit our respective model. Thus, our initial model showed the best result, albeit only a slight change in scores after RFE filtering. \n",
    "\n",
    "The final tabulation of the models are as below:\n",
    "\n",
    "| Model | Penalty | α | Train Score | Cross-Validation Score | Kaggle Score (Public) |\n",
    "|---|---|---|---|---|---|\n",
    "| Linear Regression | - | - | -2.0611 | 1.6718e^14 | 7.0848e^14 |\n",
    "| Ridge Regression | L2 | 4.5 | 0.906 | 24810.7735 | 23429.53810 |\n",
    "| Lasso Regression | L1 | 65.3995 | 0.9075 | 24670.8261 | 23531.36260 |\n",
    "| ElasticNet Regression | L1+L2 | 0.5 | 0.8884 | 26979.0956 | 28275.50000 |\n",
    "| Lasso Regression (after RFE) | L1 | 0.5 | 0.913 | 24019.6993 | 23643.55423 |\n",
    "| Lasso Regression (after hyperparameter tuning) | L1 | 0.06 | 0.915 | 23582.1916 | 23932.42010 |\n",
    "\n",
    "From the Kaggle scores, it seems that Ridge was the slightly better model in predicting the saleprice of property on the test dataset, however Lasso seemed to performed better during the modelling stage. Albeit the scores were only off by a few 100 points, both Ridge and Lasso did a respectable job in prediction of the test dataset. \n",
    "\n",
    "Our final best Kaggle score was **23531**."
   ]
  },
  {
   "cell_type": "markdown",
   "id": "075b1ecc-82f7-4845-a1ef-a7ee5d4d5d2a",
   "metadata": {},
   "source": [
    "### Interpreting Coefficients"
   ]
  },
  {
   "cell_type": "code",
   "execution_count": 40,
   "id": "93c4f8eb-1dfe-41df-b6f0-921938ab856f",
   "metadata": {},
   "outputs": [
    {
     "data": {
      "text/plain": [
       "array([ -4949.69114966,   5338.62749157,  -9262.51099374,   7549.51823168,\n",
       "        -5237.52999279,  -4021.00174735,   6670.34444166,   7521.3863482 ,\n",
       "         4654.1935624 ,  10248.0210447 ,  13074.80668684,  66266.38700356,\n",
       "        14924.01891938,  19803.06221956,  31206.79034631,  -2897.81526171,\n",
       "        10524.78370247,  49027.75360342,  15459.17870324,  -4185.74511626,\n",
       "         5829.88215562, -29120.13709923,  12898.73625476,  -3507.06920396,\n",
       "        -7533.75537989,   4127.6801285 ,  -5258.11172707,  -5326.32209941,\n",
       "        -4997.15145703,   4528.09065289, -11056.69296508,  12452.25589142,\n",
       "        -5268.0838646 ,   3389.87352296,   3814.61064142,   3498.28230062,\n",
       "        -7662.16901286,   6261.05048019,   3766.3929208 , -11597.66465045,\n",
       "        19108.55003905,  11301.1583118 ,  16404.88467823,  11787.61430091,\n",
       "         8179.08575545,   8290.50975099,   4708.53496601,   6102.42839754,\n",
       "         6695.1954103 ,   3901.61512126])"
      ]
     },
     "execution_count": 40,
     "metadata": {},
     "output_type": "execute_result"
    }
   ],
   "source": [
    "lasso_reduced.coef_"
   ]
  },
  {
   "cell_type": "code",
   "execution_count": 41,
   "id": "65489c1d-845c-44a5-aec9-41472b981c00",
   "metadata": {},
   "outputs": [
    {
     "data": {
      "text/plain": [
       "168113.77818385963"
      ]
     },
     "execution_count": 41,
     "metadata": {},
     "output_type": "execute_result"
    }
   ],
   "source": [
    "lasso_reduced.intercept_"
   ]
  },
  {
   "cell_type": "code",
   "execution_count": 42,
   "id": "1723f14c-892d-4e23-b4f5-0998a7a2a3f6",
   "metadata": {},
   "outputs": [],
   "source": [
    "#making dataframe with coefficients of the reduced lasso features based on RFE \n",
    "coefs = pd.DataFrame([rfe_lasso_features, lasso_reduced.coef_]).T"
   ]
  },
  {
   "cell_type": "code",
   "execution_count": 43,
   "id": "e65b2dec-15fa-446e-aa75-974cc8243f51",
   "metadata": {},
   "outputs": [],
   "source": [
    "coefs.columns = ['feature', 'Coefficient']"
   ]
  },
  {
   "cell_type": "code",
   "execution_count": 44,
   "id": "43785d80-af9b-4063-bdef-ea57d71d0742",
   "metadata": {},
   "outputs": [
    {
     "data": {
      "text/html": [
       "<div>\n",
       "<style scoped>\n",
       "    .dataframe tbody tr th:only-of-type {\n",
       "        vertical-align: middle;\n",
       "    }\n",
       "\n",
       "    .dataframe tbody tr th {\n",
       "        vertical-align: top;\n",
       "    }\n",
       "\n",
       "    .dataframe thead th {\n",
       "        text-align: right;\n",
       "    }\n",
       "</style>\n",
       "<table border=\"1\" class=\"dataframe\">\n",
       "  <thead>\n",
       "    <tr style=\"text-align: right;\">\n",
       "      <th></th>\n",
       "      <th>feature</th>\n",
       "      <th>Coefficient</th>\n",
       "    </tr>\n",
       "  </thead>\n",
       "  <tbody>\n",
       "    <tr>\n",
       "      <th>11</th>\n",
       "      <td>neighborhood_GrnHill</td>\n",
       "      <td>66266.387004</td>\n",
       "    </tr>\n",
       "    <tr>\n",
       "      <th>17</th>\n",
       "      <td>neighborhood_StoneBr</td>\n",
       "      <td>49027.753603</td>\n",
       "    </tr>\n",
       "    <tr>\n",
       "      <th>14</th>\n",
       "      <td>neighborhood_NridgHt</td>\n",
       "      <td>31206.790346</td>\n",
       "    </tr>\n",
       "    <tr>\n",
       "      <th>13</th>\n",
       "      <td>neighborhood_NoRidge</td>\n",
       "      <td>19803.06222</td>\n",
       "    </tr>\n",
       "    <tr>\n",
       "      <th>40</th>\n",
       "      <td>1st_flr_sf_total_bsmt_sf</td>\n",
       "      <td>19108.550039</td>\n",
       "    </tr>\n",
       "    <tr>\n",
       "      <th>42</th>\n",
       "      <td>gr_liv_area_2nd_flr_sf</td>\n",
       "      <td>16404.884678</td>\n",
       "    </tr>\n",
       "    <tr>\n",
       "      <th>18</th>\n",
       "      <td>bldg_type_1Fam</td>\n",
       "      <td>15459.178703</td>\n",
       "    </tr>\n",
       "    <tr>\n",
       "      <th>12</th>\n",
       "      <td>neighborhood_NPkVill</td>\n",
       "      <td>14924.018919</td>\n",
       "    </tr>\n",
       "    <tr>\n",
       "      <th>10</th>\n",
       "      <td>neighborhood_Crawfor</td>\n",
       "      <td>13074.806687</td>\n",
       "    </tr>\n",
       "    <tr>\n",
       "      <th>22</th>\n",
       "      <td>exterior_1st_BrkFace</td>\n",
       "      <td>12898.736255</td>\n",
       "    </tr>\n",
       "  </tbody>\n",
       "</table>\n",
       "</div>"
      ],
      "text/plain": [
       "                     feature   Coefficient\n",
       "11      neighborhood_GrnHill  66266.387004\n",
       "17      neighborhood_StoneBr  49027.753603\n",
       "14      neighborhood_NridgHt  31206.790346\n",
       "13      neighborhood_NoRidge   19803.06222\n",
       "40  1st_flr_sf_total_bsmt_sf  19108.550039\n",
       "42    gr_liv_area_2nd_flr_sf  16404.884678\n",
       "18            bldg_type_1Fam  15459.178703\n",
       "12      neighborhood_NPkVill  14924.018919\n",
       "10      neighborhood_Crawfor  13074.806687\n",
       "22      exterior_1st_BrkFace  12898.736255"
      ]
     },
     "execution_count": 44,
     "metadata": {},
     "output_type": "execute_result"
    }
   ],
   "source": [
    "#top 10 features with positive coefficient\n",
    "coefs.sort_values(by='Coefficient', ascending=False).head(10)"
   ]
  },
  {
   "cell_type": "code",
   "execution_count": 45,
   "id": "98651597-b590-4c64-8233-92cfb473c861",
   "metadata": {},
   "outputs": [
    {
     "data": {
      "text/html": [
       "<div>\n",
       "<style scoped>\n",
       "    .dataframe tbody tr th:only-of-type {\n",
       "        vertical-align: middle;\n",
       "    }\n",
       "\n",
       "    .dataframe tbody tr th {\n",
       "        vertical-align: top;\n",
       "    }\n",
       "\n",
       "    .dataframe thead th {\n",
       "        text-align: right;\n",
       "    }\n",
       "</style>\n",
       "<table border=\"1\" class=\"dataframe\">\n",
       "  <thead>\n",
       "    <tr style=\"text-align: right;\">\n",
       "      <th></th>\n",
       "      <th>feature</th>\n",
       "      <th>Coefficient</th>\n",
       "    </tr>\n",
       "  </thead>\n",
       "  <tbody>\n",
       "    <tr>\n",
       "      <th>21</th>\n",
       "      <td>roof_style_Mansard</td>\n",
       "      <td>-29120.137099</td>\n",
       "    </tr>\n",
       "    <tr>\n",
       "      <th>39</th>\n",
       "      <td>property_age</td>\n",
       "      <td>-11597.66465</td>\n",
       "    </tr>\n",
       "    <tr>\n",
       "      <th>30</th>\n",
       "      <td>sale_type_COD</td>\n",
       "      <td>-11056.692965</td>\n",
       "    </tr>\n",
       "    <tr>\n",
       "      <th>2</th>\n",
       "      <td>ms_subclass_160</td>\n",
       "      <td>-9262.510994</td>\n",
       "    </tr>\n",
       "    <tr>\n",
       "      <th>36</th>\n",
       "      <td>total_bsmt_sf</td>\n",
       "      <td>-7662.169013</td>\n",
       "    </tr>\n",
       "    <tr>\n",
       "      <th>24</th>\n",
       "      <td>mas_vnr_type_BrkCmn</td>\n",
       "      <td>-7533.75538</td>\n",
       "    </tr>\n",
       "    <tr>\n",
       "      <th>27</th>\n",
       "      <td>garage_type_2Types</td>\n",
       "      <td>-5326.322099</td>\n",
       "    </tr>\n",
       "    <tr>\n",
       "      <th>32</th>\n",
       "      <td>sale_type_WD</td>\n",
       "      <td>-5268.083865</td>\n",
       "    </tr>\n",
       "    <tr>\n",
       "      <th>26</th>\n",
       "      <td>foundation_CBlock</td>\n",
       "      <td>-5258.111727</td>\n",
       "    </tr>\n",
       "    <tr>\n",
       "      <th>4</th>\n",
       "      <td>ms_subclass_85</td>\n",
       "      <td>-5237.529993</td>\n",
       "    </tr>\n",
       "  </tbody>\n",
       "</table>\n",
       "</div>"
      ],
      "text/plain": [
       "                feature   Coefficient\n",
       "21   roof_style_Mansard -29120.137099\n",
       "39         property_age  -11597.66465\n",
       "30        sale_type_COD -11056.692965\n",
       "2       ms_subclass_160  -9262.510994\n",
       "36        total_bsmt_sf  -7662.169013\n",
       "24  mas_vnr_type_BrkCmn   -7533.75538\n",
       "27   garage_type_2Types  -5326.322099\n",
       "32        sale_type_WD   -5268.083865\n",
       "26    foundation_CBlock  -5258.111727\n",
       "4        ms_subclass_85  -5237.529993"
      ]
     },
     "execution_count": 45,
     "metadata": {},
     "output_type": "execute_result"
    }
   ],
   "source": [
    "#top 10 features with negative coefficient\n",
    "coefs.sort_values(by='Coefficient', ascending=True).head(10)"
   ]
  },
  {
   "cell_type": "markdown",
   "id": "c2721152-2d57-4cd8-9147-a19661a36c7c",
   "metadata": {},
   "source": [
    "Feature coefficients can be simply interpreted as `Bx` in the linear regression equation: `Y = B0 + B1X1 + ... + BxXx + e`\n",
    "`B0` represents the intercept while `Bx` represents the slope parameter. For example, `'property_age'` impacts on our model as follows: \n",
    "\n",
    "`'sale_price'` = -11325.42 + 168148.42(`'overall_qual'`)\n",
    "\n",
    "Meaning to say, a one unit increase in age of the property before it was sold would relate to a predicted decrease in sale price of $16,8148.42.\n",
    "\n",
    "From the coefficients, we see that generally neighbourhoods and area/size of property contributes the most in sale price. Generally, locations that are 'prime' will lead to an increase in sale price and same goes to the size of the property as it shows a positive . Conversely, the features that had the greatest negative effect on sale price were the age of the house and certain roof styles (Mansard). The older the age of property, the lower the sale price and the more type of 'less-quality' roof styles (that are least popular among homeowners), the lower the sale price as well. \n",
    "\n",
    "Therefore, we can answer our project statement whereby the features listed in the coefficient dataframe has highlighted several similarly-described features has an impact on saleprice of properties in Ames, Iowa; namely **neighbourhood/location, size & area of properties and building types** contributes the most to the housing market."
   ]
  },
  {
   "cell_type": "markdown",
   "id": "98d80681-e27c-48ea-8ab5-222c07922a13",
   "metadata": {},
   "source": [
    "### Recommendations"
   ]
  },
  {
   "cell_type": "markdown",
   "id": "578280ef-07fb-400a-a8c9-1fd708c8c48e",
   "metadata": {},
   "source": [
    "Our model is able to predict housing prices relatively well. It can also be fitted based on the needs of the stakeholders. Our dataset does not have some features such as economic indicators, like  employment or wage growth of the area, and interest rates. Based on our outside research, more macro features has an impact on the housing price in the market. An increase in interest rate can influence one's ability to afford a home as the individual's budget will be more focused on managing to pay off additional interest rates (for example, for credit card or short-term loan). [(source)](https://www.opendoor.com/w/blog/factors-that-influence-home-value)\n",
    "\n",
    "Therefore, we can include such features to better predict housing market based on more macro features, if the needs of our stakeholders require it to. In this case, our stakeholders are catered more to homeowners that may want to find ways to help alleviate their position in selling their properties at a higher price as the features describe more on the description of the property itself. If our stakeholders are more of real estate developers or investors, whose sole purpose is to see intrinsic value due to long-term price appreciation [(source)](https://www.investopedia.com/articles/investing/110614/most-important-factors-investing-real-estate.asp#:~:text=Expected%20cash%20flow%20from%20rental,to%20get%20a%20better%20price), then a more macro view and data is required in which our model is able to run prediction. \n",
    "\n",
    "Even with added features, our model will still be able to instantiate them and evaluate if the features are deemed significant in its predictive power. Especially with Lasso Regression Model, it can sieve out noise better by zeroing the coefficient. With proper datasets and training, we can recommend that the model be trained in more macro-related features to boost its predictive power in the housing market."
   ]
  },
  {
   "cell_type": "code",
   "execution_count": null,
   "id": "42ad762c-ae18-4ef1-a56d-a3a3cac198c9",
   "metadata": {},
   "outputs": [],
   "source": []
  }
 ],
 "metadata": {
  "kernelspec": {
   "display_name": "Python 3 (ipykernel)",
   "language": "python",
   "name": "python3"
  },
  "language_info": {
   "codemirror_mode": {
    "name": "ipython",
    "version": 3
   },
   "file_extension": ".py",
   "mimetype": "text/x-python",
   "name": "python",
   "nbconvert_exporter": "python",
   "pygments_lexer": "ipython3",
   "version": "3.8.13"
  }
 },
 "nbformat": 4,
 "nbformat_minor": 5
}
